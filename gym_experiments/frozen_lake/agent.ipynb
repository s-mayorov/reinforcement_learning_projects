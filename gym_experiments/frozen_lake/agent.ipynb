{
 "cells": [
  {
   "cell_type": "markdown",
   "metadata": {},
   "source": [
    "Naive solution of Frozen Lake with Q-Table"
   ]
  },
  {
   "cell_type": "code",
   "execution_count": 1,
   "metadata": {},
   "outputs": [],
   "source": [
    "import numpy as np\n",
    "import gym\n",
    "import random\n",
    "import time\n",
    "from IPython.display import clear_output"
   ]
  },
  {
   "cell_type": "code",
   "execution_count": 2,
   "metadata": {},
   "outputs": [],
   "source": [
    "env = gym.make(\"FrozenLake-v0\")"
   ]
  },
  {
   "cell_type": "code",
   "execution_count": 3,
   "metadata": {
    "tags": []
   },
   "outputs": [
    {
     "output_type": "stream",
     "name": "stdout",
     "text": "[[0. 0. 0. 0.]\n [0. 0. 0. 0.]\n [0. 0. 0. 0.]\n [0. 0. 0. 0.]\n [0. 0. 0. 0.]\n [0. 0. 0. 0.]\n [0. 0. 0. 0.]\n [0. 0. 0. 0.]\n [0. 0. 0. 0.]\n [0. 0. 0. 0.]\n [0. 0. 0. 0.]\n [0. 0. 0. 0.]\n [0. 0. 0. 0.]\n [0. 0. 0. 0.]\n [0. 0. 0. 0.]\n [0. 0. 0. 0.]]\n"
    }
   ],
   "source": [
    "action_space_size =  env.action_space.n\n",
    "state_space_size = env.observation_space.n\n",
    "\n",
    "q_table = np.zeros((state_space_size, action_space_size))\n",
    "\n",
    "print(q_table)"
   ]
  },
  {
   "cell_type": "code",
   "execution_count": 4,
   "metadata": {},
   "outputs": [],
   "source": [
    "num_episodes = 10000\n",
    "max_steps_per_episode = 100\n",
    "\n",
    "learning_rate = 0.1\n",
    "discount_rate = 0.99\n",
    "\n",
    "exploration_rate = 1\n",
    "max_exploration_rate = 1\n",
    "min_exploration_rate = 0.01\n",
    "exploration_decay_rate = 0.001"
   ]
  },
  {
   "cell_type": "code",
   "execution_count": 5,
   "metadata": {
    "tags": []
   },
   "outputs": [
    {
     "output_type": "stream",
     "name": "stdout",
     "text": "*****Average rewards per 1000 episodes*****\n\n1000 : 0.04\n2000 : 0.2\n3000 : 0.412\n4000 : 0.541\n5000 : 0.671\n6000 : 0.677\n7000 : 0.662\n8000 : 0.698\n9000 : 0.693\n10000 : 0.657\n\n\n*****Q-Table*****\nLEFT DOWN RIGHT UP\n[[0.57240933 0.48740034 0.49840042 0.48906647]\n [0.33388988 0.34573473 0.29881201 0.49091645]\n [0.40817581 0.40713693 0.41194006 0.44531026]\n [0.22112783 0.28285319 0.41230877 0.42438057]\n [0.59619425 0.28932984 0.39508398 0.38633044]\n [0.         0.         0.         0.        ]\n [0.16717887 0.13348114 0.36635197 0.10993801]\n [0.         0.         0.         0.        ]\n [0.38188776 0.50100333 0.36944746 0.63352074]\n [0.34696123 0.69278414 0.41316551 0.40104796]\n [0.60829066 0.37049301 0.40277046 0.26489526]\n [0.         0.         0.         0.        ]\n [0.         0.         0.         0.        ]\n [0.54088636 0.55105224 0.79985092 0.41766628]\n [0.71859267 0.84632002 0.72047395 0.73258703]\n [0.         0.         0.         0.        ]]\n"
    }
   ],
   "source": [
    "rewards_all_epsodes = []\n",
    "\n",
    "for episode in range(num_episodes):\n",
    "    state = env.reset()\n",
    "\n",
    "    done = False\n",
    "    rewards_current_episode = 0\n",
    "\n",
    "    for step in range(max_steps_per_episode):\n",
    "        exp_rate_threshold = random.uniform(0,1)\n",
    "        if exp_rate_threshold > exploration_rate:\n",
    "            action = np.argmax(q_table[state,:])\n",
    "        else:\n",
    "            action = env.action_space.sample()\n",
    "\n",
    "        new_state, reward, done, info = env.step(action)\n",
    "        q_table[state, action] = q_table[state, action]*(1-learning_rate) + \\\n",
    "            learning_rate*(reward+discount_rate*np.max(q_table[new_state,:]))\n",
    "        state = new_state\n",
    "        rewards_current_episode += reward\n",
    "\n",
    "        if done: break\n",
    "\n",
    "    exploration_rate = min_exploration_rate + (max_exploration_rate-min_exploration_rate)*np.exp(-exploration_decay_rate*episode)\n",
    "    rewards_all_epsodes.append(rewards_current_episode)\n",
    "\n",
    "\n",
    "rewards_per_thousand_episodes = np.split(np.array(rewards_all_epsodes), num_episodes/1000)\n",
    "count = 1000\n",
    "print(\"*****Average rewards per 1000 episodes*****\\n\")\n",
    "for r in rewards_per_thousand_episodes:\n",
    "    print(count, \":\", str(sum(r)/1000))\n",
    "    count+=1000\n",
    "\n",
    "print(\"\\n\\n*****Q-Table*****\")\n",
    "print(\"LEFT DOWN RIGHT UP\")\n",
    "print(q_table)\n"
   ]
  },
  {
   "cell_type": "code",
   "execution_count": 6,
   "metadata": {
    "tags": []
   },
   "outputs": [
    {
     "output_type": "stream",
     "name": "stdout",
     "text": "(Down)\nSFFF\nFHFH\nFFFH\nHFF\u001b[41mG\u001b[0m\nAgent reached his freesbie\n"
    }
   ],
   "source": [
    "for episode in range(3):\n",
    "    state = env.reset()\n",
    "    done = False\n",
    "    print(\"*****EPISODE \", episode+1, \"*****\\n\\n\\n\\n\")\n",
    "    time.sleep(1)\n",
    "\n",
    "    for step in range(max_steps_per_episode):\n",
    "        clear_output(wait=True)\n",
    "        env.render()\n",
    "        time.sleep(0.3)\n",
    "        action = np.argmax(q_table[state,:])\n",
    "        new_state, reward, done, info = env.step(action)\n",
    "\n",
    "        if done:\n",
    "            clear_output(wait=True)\n",
    "            env.render()\n",
    "            if reward == 1:\n",
    "                print(\"Agent reached his freesbie\")\n",
    "            else:\n",
    "                print(\"Agent has drown :(\")\n",
    "\n",
    "            time.sleep(3)\n",
    "            clear_output(wait=True)\n",
    "            break\n",
    "        state = new_state\n",
    "\n",
    "env.close()"
   ]
  },
  {
   "cell_type": "code",
   "execution_count": null,
   "metadata": {},
   "outputs": [],
   "source": []
  }
 ],
 "metadata": {
  "kernelspec": {
   "display_name": "Python 3.8.2 64-bit ('fastai': venv)",
   "language": "python",
   "name": "python38264bitfastaivenvd88b628ba05549c1abc1295c7d007138"
  },
  "language_info": {
   "codemirror_mode": {
    "name": "ipython",
    "version": 3
   },
   "file_extension": ".py",
   "mimetype": "text/x-python",
   "name": "python",
   "nbconvert_exporter": "python",
   "pygments_lexer": "ipython3",
   "version": "3.8.2-final"
  }
 },
 "nbformat": 4,
 "nbformat_minor": 2
}